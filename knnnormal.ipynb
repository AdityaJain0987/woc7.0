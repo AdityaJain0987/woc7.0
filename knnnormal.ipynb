{
 "cells": [
  {
   "cell_type": "code",
   "execution_count": 3,
   "id": "a590a1dd",
   "metadata": {},
   "outputs": [
    {
     "name": "stdout",
     "output_type": "stream",
     "text": [
      "Processing Row  0  of  6000\n",
      "Processing Row  1000  of  6000\n",
      "Processing Row  2000  of  6000\n",
      "Processing Row  3000  of  6000\n",
      "Processing Row  4000  of  6000\n",
      "Processing Row  5000  of  6000\n",
      "Model Accuracy: 0.978\n",
      "time taken: 54444.15000081062\n"
     ]
    }
   ],
   "source": [
    "\"\"\"The shortest KNN implementation in Python 😎\n",
    "line 1: imports libraries\n",
    "line 2: marks start time\n",
    "line 3: imports data using pandas, shuffles it, and splits into X and y\n",
    "line 4 to 12: defines main body of kNN function, calculates accuracy and returns predictions and accuracy\n",
    "line 13: calls function kNN\n",
    "line 14: marks end time\n",
    "line 15: prints time taken\"\"\"\n",
    "import numpy as np, matplotlib.pyplot as plt, pandas as pd, time\n",
    "start = time.time()\n",
    "X, y, x_test, y_test = pd.read_csv(\"Classification_train.csv\").sample(frac=1).reset_index(drop=True).pipe(lambda df: (df.iloc[:int(0.8*df.shape[0]),1:].values, df.iloc[:int(0.8*df.shape[0]),0].values, df.iloc[int(0.8*df.shape[0]):, 1:].values, df.iloc[int(0.8*df.shape[0]):, 0].values))\n",
    "def kNN(X_train,y_train, y_test, x_test, k, predictions = []):\n",
    "    for i in range(len(y_test)):\n",
    "        dist = np.linalg.norm((x_test[i] - X_train),axis=1)\n",
    "        labels = y_train[np.argsort(dist)[:k]]\n",
    "        predictions.append(np.bincount(labels).argmax())\n",
    "        if i % 1000 == 0: print(\"Processing Row \", i, \" of \", len(y_test))\n",
    "    accuracy = np.sum(y_test == predictions) / (len(y_test))\n",
    "    print(\"Model Accuracy:\", accuracy)\n",
    "    return predictions, accuracy\n",
    "predictions, accuracy = kNN(X, y,y_test, x_test, 7)\n",
    "end = time.time()\n",
    "print(\"time taken:\", end - start)"
   ]
  },
  {
   "cell_type": "code",
   "execution_count": null,
   "id": "f60f62a9",
   "metadata": {},
   "outputs": [],
   "source": []
  },
  {
   "cell_type": "code",
   "execution_count": null,
   "id": "d9f8aa5c",
   "metadata": {},
   "outputs": [],
   "source": []
  }
 ],
 "metadata": {
  "kernelspec": {
   "display_name": "Python 3 (ipykernel)",
   "language": "python",
   "name": "python3"
  },
  "language_info": {
   "codemirror_mode": {
    "name": "ipython",
    "version": 3
   },
   "file_extension": ".py",
   "mimetype": "text/x-python",
   "name": "python",
   "nbconvert_exporter": "python",
   "pygments_lexer": "ipython3",
   "version": "3.11.5"
  }
 },
 "nbformat": 4,
 "nbformat_minor": 5
}
