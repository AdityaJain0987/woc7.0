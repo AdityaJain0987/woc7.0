{
 "cells": [
  {
   "cell_type": "code",
   "execution_count": 2,
   "id": "42c65fe9",
   "metadata": {},
   "outputs": [
    {
     "name": "stdout",
     "output_type": "stream",
     "text": [
      "0.9158333333333334\n",
      "time taken: 37.69378471374512\n"
     ]
    }
   ],
   "source": [
    "import numpy as np, pandas as pd, time,matplotlib.pyplot as plt\n",
    "start = time.time()\n",
    "x_train, y_train,x_test, y_test = pd.read_csv(\"Classification_train.csv\").sample(frac=1).reset_index(drop=True).pipe(lambda df: (df.iloc[:int(0.8*df.shape[0]), 1:].values, df.iloc[:int(0.8*df.shape[0]), 0].values, df.iloc[int(0.8*df.shape[0]):, 1:].values, df.iloc[int(0.8*df.shape[0]):, 0].values))\n",
    "def knnfast(x_train, y_train, x_test, y_test, k, amount, predictions=[]):\n",
    "    for i in range(len(y_test)):\n",
    "        dist = np.sum((x_test[i] - x_train[:amount])**2, axis=1)\n",
    "        predictions.append(np.bincount(y_train[np.argsort(dist)[:k]]).argmax())\n",
    "    accuracy=np.mean(y_test==predictions)\n",
    "    return accuracy,predictions\n",
    "accuracy, predictions=knnfast(x_train,y_train, x_test, y_test, 1,700)\n",
    "end = time.time()\n",
    "print(accuracy)\n",
    "print(\"time taken:\",end - start)"
   ]
  },
  {
   "cell_type": "code",
   "execution_count": null,
   "id": "95cdd782",
   "metadata": {},
   "outputs": [],
   "source": []
  }
 ],
 "metadata": {
  "kernelspec": {
   "display_name": "Python 3 (ipykernel)",
   "language": "python",
   "name": "python3"
  },
  "language_info": {
   "codemirror_mode": {
    "name": "ipython",
    "version": 3
   },
   "file_extension": ".py",
   "mimetype": "text/x-python",
   "name": "python",
   "nbconvert_exporter": "python",
   "pygments_lexer": "ipython3",
   "version": "3.11.5"
  }
 },
 "nbformat": 4,
 "nbformat_minor": 5
}
