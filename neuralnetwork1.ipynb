{
 "cells": [
  {
   "cell_type": "code",
   "execution_count": 8,
   "id": "941b7713",
   "metadata": {},
   "outputs": [],
   "source": [
    "import numpy as np, matplotlib.pyplot as plt, pandas as pd\n",
    "x_train, y_train, x_test, y_test = pd.read_csv(\"Classification_train.csv\").sample(frac=1).reset_index(drop=True).pipe(lambda df: (df.iloc[:24000, 1:].values, df.iloc[:24000, 0].values, df.iloc[24000:, 1:].values, df.iloc[24000:, 0].values))\n",
    "y_train = pd.get_dummies(y_train, dtype='int').values.T\n",
    "y_test = pd.get_dummies(y_test, dtype = 'int').values.T\n",
    "x_train = x_train.T / 255\n",
    "x_test = x_test.T / 255\n",
    "relu = lambda z: np.maximum(0, z)\n",
    "tanh = lambda z: np.tanh(z)\n",
    "softmax = lambda z: np.exp(z) / np.sum(np.exp(z), axis=0)\n",
    "tanh_derivative = lambda z: 1 - np.power(tanh(z), 2)\n",
    "relu_derivative = lambda z: np.where(z > 0, 1, 0)\n",
    "compute_cost = lambda AL, Y: -np.sum(Y * np.log(AL))"
   ]
  },
  {
   "cell_type": "code",
   "execution_count": 9,
   "id": "ab1e880d",
   "metadata": {},
   "outputs": [],
   "source": [
    "def initialize_parameters(layers_dim):\n",
    "    parameters = {}\n",
    "    for i in range(1, len(layers_dim)):\n",
    "        parameters[\"w\" + str(i)] = np.random.randn(layers_dim[i], layers_dim[i - 1]) * np.sqrt(2 / layers_dim[i - 1])\n",
    "        parameters[\"b\" + str(i)] = np.zeros((layers_dim[i], 1))\n",
    "    return parameters"
   ]
  },
  {
   "cell_type": "code",
   "execution_count": 10,
   "id": "0ccb1326",
   "metadata": {},
   "outputs": [],
   "source": [
    "def forward_propagation(X, parameters, activation):\n",
    "    caches = {}\n",
    "    A = X\n",
    "    L = len(parameters) // 2\n",
    "    for l in range(1, L+1):\n",
    "        A_prev = A\n",
    "        Z = np.dot(parameters['w' + str(l)], A_prev) + parameters['b' + str(l)]\n",
    "        if activation == 'tanh' and l != L:\n",
    "            A = tanh(Z)\n",
    "        elif activation == 'relu' and l != L:\n",
    "            A = relu(Z)\n",
    "        else:\n",
    "            A = softmax(Z)\n",
    "        caches['Z' + str(l)] = Z\n",
    "        caches['A' + str(l)] = A\n",
    "    return A, caches"
   ]
  },
  {
   "cell_type": "code",
   "execution_count": 11,
   "id": "e1cd119e",
   "metadata": {},
   "outputs": [],
   "source": [
    "def backward_propagation(AL,X, Y, caches, parameters, activation, learning_rate):\n",
    "    grads = {}\n",
    "    L = len(caches) // 2\n",
    "    m = AL.shape[1]\n",
    "    dZ = AL - Y\n",
    "    grads[\"dw\" + str(L)] = 1./m * np.dot(dZ, caches['A' + str(L-1)].T)\n",
    "    grads[\"db\" + str(L)] = 1./m * np.sum(dZ, axis=1, keepdims=True)\n",
    "    for l in reversed(range(L-1)):\n",
    "        dA_prev = np.dot(parameters['w' + str(l + 2)].T, dZ)\n",
    "        if activation == 'tanh':\n",
    "            dZ = np.multiply(dA_prev, tanh_derivative(caches['Z' + str(l + 1)]))\n",
    "        elif activation == 'relu':\n",
    "            dZ = np.multiply(dA_prev, relu_derivative(caches['Z' + str(l + 1)]))\n",
    "        grads[\"dw\" + str(l + 1)] = 1./m * np.dot(dZ, caches['A' + str(l)].T if l != 0 else X.T)\n",
    "        grads[\"db\" + str(l + 1)] = 1./m * np.sum(dZ, axis=1, keepdims=True)\n",
    "    for l in range(len(parameters)//2):\n",
    "        parameters[\"w\" + str(l+1)] -= learning_rate * grads[\"dw\" + str(l+1)]\n",
    "        parameters[\"b\" + str(l+1)] -= learning_rate * grads[\"db\" + str(l+1)]\n",
    "    return parameters"
   ]
  },
  {
   "cell_type": "code",
   "execution_count": 12,
   "id": "82e1021b",
   "metadata": {},
   "outputs": [],
   "source": [
    "def compute_accuracy(X, Y, parameters, activation):\n",
    "    AL, _ = forward_propagation(X, parameters, activation)\n",
    "    predictions = np.argmax(AL, axis=0)\n",
    "    labels = np.argmax(Y, axis=0)\n",
    "    accuracy = np.mean(predictions == labels) * 100\n",
    "    return accuracy"
   ]
  },
  {
   "cell_type": "code",
   "execution_count": 13,
   "id": "115a8d09",
   "metadata": {},
   "outputs": [],
   "source": [
    "def train_model(X,Y,X_T,Y_T, layers_dim, activation='relu', learning_rate=0.96, num_iterations=300):\n",
    "    parameters = initialize_parameters(layers_dim)\n",
    "    for i in range(0, num_iterations):\n",
    "        AL, caches = forward_propagation(X, parameters, activation)\n",
    "        cost = compute_cost(AL, Y)\n",
    "        parameters = backward_propagation(AL, X,Y, caches, parameters, activation, learning_rate)\n",
    "        if i % 100 == 0:\n",
    "            print (f\"Cost after iteration {i}: {cost}\")\n",
    "    accuracy = compute_accuracy(X, Y, parameters,activation)\n",
    "    test_accuracy = compute_accuracy(X_T,Y_T,parameters, activation)\n",
    "    print(\"Train Accuracy:\", accuracy)\n",
    "    print(\"Test Accuracy:\",test_accuracy)\n",
    "    return parameters, accuracy,test_accuracy"
   ]
  },
  {
   "cell_type": "code",
   "execution_count": 14,
   "id": "60a0a58f",
   "metadata": {},
   "outputs": [
    {
     "name": "stdout",
     "output_type": "stream",
     "text": [
      "Cost after iteration 0: 57793.63219272198\n",
      "Cost after iteration 100: 2870.2940149188735\n",
      "Cost after iteration 200: 1023.5463535504265\n",
      "Train Accuracy: 99.52499999999999\n",
      "Test Accuracy: 98.25\n"
     ]
    }
   ],
   "source": [
    "param, train_accuracy, test_accuracy = (train_model(x_train, y_train,x_test, y_test, layers_dim=[784,386,64,10], activation='relu'))\n"
   ]
  },
  {
   "cell_type": "code",
   "execution_count": null,
   "id": "411d935a",
   "metadata": {},
   "outputs": [],
   "source": []
  }
 ],
 "metadata": {
  "kernelspec": {
   "display_name": "Python 3 (ipykernel)",
   "language": "python",
   "name": "python3"
  },
  "language_info": {
   "codemirror_mode": {
    "name": "ipython",
    "version": 3
   },
   "file_extension": ".py",
   "mimetype": "text/x-python",
   "name": "python",
   "nbconvert_exporter": "python",
   "pygments_lexer": "ipython3",
   "version": "3.11.5"
  }
 },
 "nbformat": 4,
 "nbformat_minor": 5
}
